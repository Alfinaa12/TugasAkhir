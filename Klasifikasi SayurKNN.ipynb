{
  "cells": [
    {
      "cell_type": "code",
      "execution_count": null,
      "metadata": {
        "id": "5-TeTNmjHX8E"
      },
      "outputs": [],
      "source": [
        "!pip install opencv-python numpy pandas scikit-learn matplotlib"
      ]
    },
    {
      "cell_type": "code",
      "execution_count": null,
      "metadata": {
        "id": "AmRCtTzgJhoM"
      },
      "outputs": [],
      "source": [
        "import cv2\n",
        "import os\n",
        "import numpy as np\n",
        "import pandas as pd\n",
        "from sklearn.model_selection import train_test_split\n",
        "from sklearn.neighbors import KNeighborsClassifier\n",
        "from sklearn.metrics import accuracy_score\n",
        "import matplotlib.pyplot as plt\n"
      ]
    },
    {
      "cell_type": "code",
      "execution_count": null,
      "metadata": {
        "id": "-AhN8jksJ1Cx"
      },
      "outputs": [],
      "source": [
        "# Path ke folder gambar fresh apple dan stale apple\n",
        "fresh_apple_folder = \"archive/fresh_apple\"\n",
        "stale_apple_folder = \"archive/stale_apple\""
      ]
    },
    {
      "cell_type": "code",
      "execution_count": null,
      "metadata": {
        "id": "uzNVvbvbKIi6"
      },
      "outputs": [],
      "source": [
        "# Fungsi untuk ekstraksi fitur warna dari citra\n",
        "def extract_color_features(image):\n",
        "    # Konversi citra ke ruang warna HSV\n",
        "    hsv = cv2.cvtColor(image, cv2.COLOR_BGR2HSV)\n",
        "\n",
        "    # Ekstraksi fitur warna dari saluran hue dan saturation\n",
        "    hue = hsv[:, :, 0]\n",
        "    saturation = hsv[:, :, 1]\n",
        "\n",
        "    # Hitung nilai rata-rata dan deviasi standar dari hue dan saturation\n",
        "    mean_hue = np.mean(hue)\n",
        "    std_hue = np.std(hue)\n",
        "    mean_saturation = np.mean(saturation)\n",
        "    std_saturation = np.std(saturation)\n",
        "\n",
        "    # Gabungkan semua fitur menjadi satu vektor fitur\n",
        "    color_features = [mean_hue, std_hue, mean_saturation, std_saturation]\n",
        "\n",
        "    return color_features"
      ]
    },
    {
      "cell_type": "code",
      "execution_count": null,
      "metadata": {
        "id": "7Xu69Mv3KKKr"
      },
      "outputs": [],
      "source": [
        "# Fungsi untuk membaca semua gambar dari folder dan ekstraksi fitur warna\n",
        "def load_images_from_folder(folder, label):\n",
        "    images = []\n",
        "    labels = []\n",
        "    for filename in os.listdir(folder):\n",
        "        path = os.path.join(folder, filename)\n",
        "        if os.path.isfile(path):\n",
        "            img = cv2.imread(path)\n",
        "            if img is not None:\n",
        "                images.append((extract_color_features(img), label))\n",
        "                labels.append(label)\n",
        "    return images, labels\n"
      ]
    },
    {
      "cell_type": "code",
      "execution_count": null,
      "metadata": {
        "id": "wHcvQ8hDKMRP"
      },
      "outputs": [],
      "source": [
        "# Memuat gambar dari folder fresh apple\n",
        "fresh_images, fresh_labels = load_images_from_folder(fresh_apple_folder, label=0)  # Label 0 untuk mentah"
      ]
    },
    {
      "cell_type": "code",
      "execution_count": null,
      "metadata": {
        "id": "GsS7_RMQKP17"
      },
      "outputs": [],
      "source": [
        "# Memuat gambar dari folder stale apple\n",
        "stale_images, stale_labels = load_images_from_folder(stale_apple_folder, label=1)  # Label 1 untuk matang"
      ]
    },
    {
      "cell_type": "code",
      "execution_count": null,
      "metadata": {
        "id": "rjM9mKx2KRN7"
      },
      "outputs": [],
      "source": [
        "# Menggabungkan data dari kedua kategori\n",
        "raw_images = fresh_images + stale_images\n",
        "labels = fresh_labels + stale_labels"
      ]
    },
    {
      "cell_type": "code",
      "execution_count": null,
      "metadata": {
        "id": "kV2alE-JKTfF"
      },
      "outputs": [],
      "source": [
        "# Memecah dataset menjadi data latih dan uji\n",
        "X_train, X_test, y_train, y_test = train_test_split(raw_images, labels, test_size=0.2, random_state=42)"
      ]
    },
    {
      "cell_type": "code",
      "execution_count": null,
      "metadata": {
        "id": "4sxLRhciKUsf"
      },
      "outputs": [],
      "source": [
        "# Extract features and labels separately\n",
        "X_train_features, X_train_labels = zip(*X_train)\n",
        "X_test_features, X_test_labels = zip(*X_test)"
      ]
    },
    {
      "cell_type": "code",
      "execution_count": null,
      "metadata": {
        "id": "gdIRzmZ8KV7v"
      },
      "outputs": [],
      "source": [
        "# Convert the list of feature vectors to a numpy array\n",
        "X_train_array = np.array(X_train_features)\n",
        "X_test_array = np.array(X_test_features)"
      ]
    },
    {
      "cell_type": "code",
      "execution_count": null,
      "metadata": {
        "id": "g0Fg7ZmSKXLi"
      },
      "outputs": [],
      "source": [
        "# Inisialisasi model KNN\n",
        "knn_model = KNeighborsClassifier(n_neighbors=3)"
      ]
    },
    {
      "cell_type": "code",
      "execution_count": null,
      "metadata": {
        "id": "x9HvpboCKYYM"
      },
      "outputs": [],
      "source": [
        "# Latih model KNN\n",
        "knn_model.fit(X_train_array, y_train)"
      ]
    },
    {
      "cell_type": "code",
      "execution_count": null,
      "metadata": {
        "id": "ZLWXsIsUKZxU"
      },
      "outputs": [],
      "source": [
        "# Validasi model dengan data uji\n",
        "y_pred = knn_model.predict(X_test_array)\n",
        "accuracy = accuracy_score(y_test, y_pred)\n",
        "print(f\"Akurasi Model: {accuracy * 100:.2f}%\")"
      ]
    },
    {
      "cell_type": "code",
      "execution_count": null,
      "metadata": {
        "id": "_4mcGL5zKbag"
      },
      "outputs": [],
      "source": [
        "# Simpan hasil prediksi ke dalam file CSV\n",
        "result_df = pd.DataFrame({'True_Label': y_test, 'Predicted_Label': y_pred})\n",
        "result_df.to_csv('knn_results.csv', index=False)"
      ]
    },
    {
      "cell_type": "code",
      "execution_count": null,
      "metadata": {
        "id": "G71nTX8hKctQ"
      },
      "outputs": [],
      "source": [
        "# Tampilkan hasil prediksi per proses\n",
        "for i, (example_feature, true_label) in enumerate(zip(X_test_array, y_test)):\n",
        "    example_feature = example_feature.reshape(1, -1)\n",
        "    predicted_label = knn_model.predict(example_feature)[0]\n",
        "\n",
        "    print(f\"Proses ke-{i + 1}:\")\n",
        "    print(f\"Fitur Contoh: {example_feature}\")\n",
        "    print(f\"Label Sebenarnya: {true_label}\")\n",
        "    print(f\"Label Prediksi: {predicted_label}\\n\")"
      ]
    },
    {
      "cell_type": "code",
      "execution_count": null,
      "metadata": {
        "id": "kYiYYAmTKe5u"
      },
      "outputs": [],
      "source": [
        "# Jika akurasi di atas 80%, tampilkan hasil prediksi di satu window\n",
        "if accuracy > 0.8:\n",
        "    img_path = \"hijau_apel.png\"  # Ganti dengan path gambar yang ingin diuji\n",
        "    img = cv2.imread(img_path)\n",
        "\n",
        "    # Tampilkan citra asli\n",
        "    plt.subplot(3, 3, 1)\n",
        "    plt.imshow(cv2.cvtColor(img, cv2.COLOR_BGR2RGB))\n",
        "    plt.title(\"Citra Asli\")\n",
        "\n",
        "    # Tampilkan citra grayscale\n",
        "    gray_img = cv2.cvtColor(img, cv2.COLOR_BGR2GRAY)\n",
        "    plt.subplot(3, 3, 2)\n",
        "    plt.imshow(gray_img, cmap=\"gray\")\n",
        "    plt.title(\"Citra Grayscale\")\n",
        "\n",
        "    # Tampilkan citra HSV\n",
        "    hsv_img = cv2.cvtColor(img, cv2.COLOR_BGR2HSV)\n",
        "    plt.subplot(3, 3, 3)\n",
        "    plt.imshow(cv2.cvtColor(hsv_img, cv2.COLOR_HSV2RGB))\n",
        "    plt.title(\"Citra HSV\")\n",
        "\n",
        "    # Tampilkan citra R, G, B\n",
        "    b, g, r = cv2.split(img)\n",
        "    plt.subplot(3, 3, 4)\n",
        "    plt.imshow(r, cmap=\"gray\")\n",
        "    plt.title(\"Citra R\")\n",
        "    plt.subplot(3, 3, 5)\n",
        "    plt.imshow(g, cmap=\"gray\")\n",
        "    plt.title(\"Citra G\")\n",
        "    plt.subplot(3, 3, 6)\n",
        "    plt.imshow(b, cmap=\"gray\")\n",
        "    plt.title(\"Citra B\")\n",
        "\n",
        "    # ... tambahkan tahap-tahap ekstraksi citra lainnya sesuai kebutuhan ...\n",
        "\n",
        "    example_features = extract_color_features(img)\n",
        "\n",
        "    # Prediksi label untuk citra contoh\n",
        "    predicted_label = knn_model.predict([example_features])\n",
        "\n",
        "    print(\"Prediksi Kematangan Buah/Sayur:\")\n",
        "    if predicted_label == 0:\n",
        "        conclussion = \"Matang\"\n",
        "    elif predicted_label == 1:\n",
        "        conclussion = \"Busuk\"\n",
        "    print(conclussion)\n",
        "\n",
        "    # Tampilkan hasil prediksi\n",
        "    plt.subplot(3, 3, 7)\n",
        "    plt.text(0.5, 0.5, f\"Prediksi:\\n{conclussion}\", ha=\"center\", va=\"center\", fontsize=12)\n",
        "    plt.axis(\"off\")\n",
        "\n",
        "    plt.tight_layout()\n",
        "    plt.show()\n",
        "\n",
        "else:\n",
        "    print(\"Akurasi model tidak mencukupi. Latih model dengan dataset yang lebih besar.\")"
      ]
    }
  ],
  "metadata": {
    "colab": {
      "provenance": []
    },
    "kernelspec": {
      "display_name": "Python 3",
      "name": "python3"
    },
    "language_info": {
      "name": "python"
    }
  },
  "nbformat": 4,
  "nbformat_minor": 0
}
